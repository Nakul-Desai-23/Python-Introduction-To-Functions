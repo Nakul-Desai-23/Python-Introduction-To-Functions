{
 "cells": [
  {
   "cell_type": "code",
   "execution_count": 1,
   "id": "9b179931",
   "metadata": {},
   "outputs": [
    {
     "name": "stdout",
     "output_type": "stream",
     "text": [
      "Zero\n",
      "This always prints\n"
     ]
    }
   ],
   "source": [
    "number = 0\n",
    "\n",
    "if number > 0:\n",
    "    print(\"positive number\") \n",
    "elif number == 0:\n",
    "    print(\"Zero\")\n",
    "else:\n",
    "    print(\"Negative number\")\n",
    "    \n",
    "    \n",
    "print(\"This always prints\")\n"
   ]
  },
  {
   "cell_type": "code",
   "execution_count": 2,
   "id": "95e3d5c4",
   "metadata": {},
   "outputs": [
    {
     "name": "stdout",
     "output_type": "stream",
     "text": [
      "0\n",
      "1\n",
      "2\n",
      "3\n",
      "4\n"
     ]
    }
   ],
   "source": [
    "for i in range(5):\n",
    "    print(i)"
   ]
  },
  {
   "cell_type": "code",
   "execution_count": 3,
   "id": "6e4ed979",
   "metadata": {},
   "outputs": [
    {
     "name": "stdout",
     "output_type": "stream",
     "text": [
      "Today is mon\n",
      "Today is tue\n",
      "Today is wed\n",
      "Today is thu\n",
      "Today is fri\n",
      "Today is sat\n",
      "Today is sun\n"
     ]
    }
   ],
   "source": [
    "days = 0\n",
    "week = ['mon','tue','wed','thu','fri','sat','sun']\n",
    "\n",
    "while days<7:\n",
    "    print(\"Today is \" + week[days])\n",
    "    days+=1"
   ]
  },
  {
   "cell_type": "code",
   "execution_count": 4,
   "id": "8bf53c43",
   "metadata": {},
   "outputs": [],
   "source": [
    "#SPLIT FUNCTION"
   ]
  },
  {
   "cell_type": "code",
   "execution_count": 5,
   "id": "4dd42f1c",
   "metadata": {},
   "outputs": [
    {
     "data": {
      "text/plain": [
       "['I', 'write', 'code']"
      ]
     },
     "execution_count": 5,
     "metadata": {},
     "output_type": "execute_result"
    }
   ],
   "source": [
    "text = \"I write code\"\n",
    "text.split()"
   ]
  },
  {
   "cell_type": "code",
   "execution_count": 6,
   "id": "be42d15b",
   "metadata": {},
   "outputs": [
    {
     "data": {
      "text/plain": [
       "['I', 'love', 'Python']"
      ]
     },
     "execution_count": 6,
     "metadata": {},
     "output_type": "execute_result"
    }
   ],
   "source": [
    "text = \"I love Python\"\n",
    "\n",
    "text.split()"
   ]
  },
  {
   "cell_type": "code",
   "execution_count": 8,
   "id": "a43ffb71",
   "metadata": {},
   "outputs": [
    {
     "name": "stdout",
     "output_type": "stream",
     "text": [
      "Enter a three word message :I love Python\n"
     ]
    }
   ],
   "source": [
    "x = input(\"Enter a three word message :\")\n"
   ]
  },
  {
   "cell_type": "code",
   "execution_count": 9,
   "id": "1e72bc24",
   "metadata": {},
   "outputs": [],
   "source": [
    "y =1"
   ]
  },
  {
   "cell_type": "code",
   "execution_count": 10,
   "id": "3e2fb675",
   "metadata": {},
   "outputs": [],
   "source": [
    "y,w=2,3"
   ]
  },
  {
   "cell_type": "code",
   "execution_count": 11,
   "id": "e2d12d17",
   "metadata": {},
   "outputs": [],
   "source": [
    "word1,word2,word3=x.split()"
   ]
  },
  {
   "cell_type": "code",
   "execution_count": 12,
   "id": "c523f626",
   "metadata": {},
   "outputs": [
    {
     "data": {
      "text/plain": [
       "'I'"
      ]
     },
     "execution_count": 12,
     "metadata": {},
     "output_type": "execute_result"
    }
   ],
   "source": [
    "word1"
   ]
  },
  {
   "cell_type": "code",
   "execution_count": 13,
   "id": "aa43d40d",
   "metadata": {},
   "outputs": [
    {
     "name": "stdout",
     "output_type": "stream",
     "text": [
      "Enter 1st number2\n",
      "Enter 2nd number3\n",
      "5\n"
     ]
    }
   ],
   "source": [
    "a = int(input(\"Enter 1st number\"))\n",
    "b = int(input(\"Enter 2nd number\"))\n",
    "print(a+b)"
   ]
  },
  {
   "cell_type": "code",
   "execution_count": 14,
   "id": "f9e9ab2c",
   "metadata": {},
   "outputs": [
    {
     "name": "stdout",
     "output_type": "stream",
     "text": [
      "enter 2 numbers1 3\n",
      "4\n"
     ]
    }
   ],
   "source": [
    "a,b=input(\"enter 2 numbers :\").split()\n",
    "c = int(a) + int(b)\n",
    "print(c)"
   ]
  },
  {
   "cell_type": "code",
   "execution_count": 16,
   "id": "b43660c3",
   "metadata": {},
   "outputs": [
    {
     "name": "stdout",
     "output_type": "stream",
     "text": [
      "enter roll no , name, percentage57 Nakul 71\n",
      "57\n",
      "Nakul\n",
      "71\n"
     ]
    }
   ],
   "source": [
    "s = input(\"enter roll no , name, percentage\")\n",
    "roll,name,percent= s.split()\n",
    "print(roll)\n",
    "print(name)\n",
    "print(percent)"
   ]
  },
  {
   "cell_type": "code",
   "execution_count": 18,
   "id": "f1c3205c",
   "metadata": {},
   "outputs": [
    {
     "name": "stdout",
     "output_type": "stream",
     "text": [
      "['A', 'B', 'C', 'D', 'E F']\n"
     ]
    }
   ],
   "source": [
    "s1 = \"A B C D E F\"\n",
    "print(s1.split(' ',4))"
   ]
  },
  {
   "cell_type": "code",
   "execution_count": 21,
   "id": "f3748e72",
   "metadata": {},
   "outputs": [
    {
     "data": {
      "text/plain": [
       "['HI', 'HI', 'HI', 'HI']"
      ]
     },
     "execution_count": 21,
     "metadata": {},
     "output_type": "execute_result"
    }
   ],
   "source": [
    "s1 = \"HI@HI@HI@HI\"\n",
    "s1.split('@')"
   ]
  },
  {
   "cell_type": "code",
   "execution_count": 22,
   "id": "8dcf6f96",
   "metadata": {},
   "outputs": [
    {
     "data": {
      "text/plain": [
       "['HI', 'HI', 'HI@HI']"
      ]
     },
     "execution_count": 22,
     "metadata": {},
     "output_type": "execute_result"
    }
   ],
   "source": [
    "s1 = \"HI@HI@HI@HI\"\n",
    "s1.split('@',2)"
   ]
  },
  {
   "cell_type": "code",
   "execution_count": 23,
   "id": "d7bae170",
   "metadata": {},
   "outputs": [
    {
     "name": "stdout",
     "output_type": "stream",
     "text": [
      "letter p\n",
      "letter w\n",
      "letter s\n",
      "letter k\n",
      "letter i\n",
      "letter l\n",
      "letter l\n",
      "letter s\n"
     ]
    }
   ],
   "source": [
    "for letter in \"pwskills\":\n",
    "    print(\"letter\",letter)"
   ]
  },
  {
   "cell_type": "code",
   "execution_count": 25,
   "id": "e8bee47b",
   "metadata": {},
   "outputs": [
    {
     "name": "stdout",
     "output_type": "stream",
     "text": [
      "letter p\n",
      "letter w\n",
      "letter s\n",
      "letter k\n",
      "letter i\n"
     ]
    }
   ],
   "source": [
    "for letter in \"pwskills\":\n",
    "    if letter == \"l\" :\n",
    "        break\n",
    "    print('letter',letter)"
   ]
  },
  {
   "cell_type": "code",
   "execution_count": 26,
   "id": "3ca8e78e",
   "metadata": {},
   "outputs": [
    {
     "name": "stdout",
     "output_type": "stream",
     "text": [
      "0\n",
      "1\n",
      "2\n"
     ]
    }
   ],
   "source": [
    "for i in range(5):\n",
    "    if i == 3:\n",
    "        break\n",
    "    print(i)"
   ]
  },
  {
   "cell_type": "code",
   "execution_count": 27,
   "id": "bca7141e",
   "metadata": {},
   "outputs": [
    {
     "data": {
      "text/plain": [
       "[0, 1, 2, 3, 4]"
      ]
     },
     "execution_count": 27,
     "metadata": {},
     "output_type": "execute_result"
    }
   ],
   "source": [
    "list(range(5))"
   ]
  },
  {
   "cell_type": "code",
   "execution_count": 29,
   "id": "c09329d7",
   "metadata": {},
   "outputs": [
    {
     "name": "stdout",
     "output_type": "stream",
     "text": [
      "1\n",
      "2\n",
      "3\n",
      "4\n",
      "5\n"
     ]
    }
   ],
   "source": [
    "i = 1\n",
    "\n",
    "while i<=10:\n",
    "    print(i)\n",
    "    \n",
    "    if i >=5:\n",
    "        break\n",
    "    i+=1\n"
   ]
  },
  {
   "cell_type": "code",
   "execution_count": 30,
   "id": "295c1699",
   "metadata": {},
   "outputs": [
    {
     "name": "stdout",
     "output_type": "stream",
     "text": [
      "10\n",
      "20\n",
      "30\n",
      "40\n"
     ]
    }
   ],
   "source": [
    "numbers = [10,20,30,40,120,230]\n",
    "\n",
    "for i in numbers:\n",
    "    if i>100:\n",
    "        break\n",
    "    print(i)"
   ]
  },
  {
   "cell_type": "code",
   "execution_count": 31,
   "id": "184b3357",
   "metadata": {},
   "outputs": [
    {
     "name": "stdout",
     "output_type": "stream",
     "text": [
      "H\n",
      "e\n",
      "l\n",
      "l\n",
      "o\n",
      ",\n"
     ]
    }
   ],
   "source": [
    "s = \"Hello,World\"\n",
    "\n",
    "for char in s:\n",
    "    print(char)\n",
    "    if char ==',':\n",
    "        break\n"
   ]
  },
  {
   "cell_type": "code",
   "execution_count": 33,
   "id": "d217e784",
   "metadata": {},
   "outputs": [
    {
     "name": "stdout",
     "output_type": "stream",
     "text": [
      "p\n",
      "w\n",
      "s\n",
      "k\n",
      "i\n",
      "s\n"
     ]
    }
   ],
   "source": [
    "for letter in \"pwskills\":\n",
    "    if letter == 'l':\n",
    "        continue\n",
    "    print(letter)"
   ]
  },
  {
   "cell_type": "code",
   "execution_count": 34,
   "id": "21e291ed",
   "metadata": {},
   "outputs": [
    {
     "name": "stdout",
     "output_type": "stream",
     "text": [
      "0\n",
      "1\n",
      "2\n",
      "4\n"
     ]
    }
   ],
   "source": [
    "for i in range(5):\n",
    "    if i ==3:\n",
    "        continue\n",
    "    print(i)\n",
    "    \n",
    "    \n",
    "    \n",
    "    \n",
    "#Break------end the loop\n",
    "#continue-----skip the loop"
   ]
  },
  {
   "cell_type": "code",
   "execution_count": 35,
   "id": "0499276b",
   "metadata": {},
   "outputs": [
    {
     "name": "stdout",
     "output_type": "stream",
     "text": [
      "1\n",
      "3\n",
      "5\n",
      "7\n",
      "9\n"
     ]
    }
   ],
   "source": [
    "#Write a program to print odd number from 1 to 10\n",
    "\n",
    "for i in range(11):\n",
    "    if i%2==0:\n",
    "        continue\n",
    "    print(i)\n"
   ]
  },
  {
   "cell_type": "code",
   "execution_count": 36,
   "id": "212c8aa2",
   "metadata": {},
   "outputs": [
    {
     "name": "stdout",
     "output_type": "stream",
     "text": [
      "Hello\n"
     ]
    }
   ],
   "source": [
    " n = 10\n",
    "\n",
    "if n>10:\n",
    "    pass\n",
    "\n",
    "print(\"Hello\")\n",
    "    \n",
    "    "
   ]
  },
  {
   "cell_type": "code",
   "execution_count": 37,
   "id": "0bc423b2",
   "metadata": {},
   "outputs": [],
   "source": [
    "for i in range(5):\n",
    "    pass"
   ]
  },
  {
   "cell_type": "code",
   "execution_count": 38,
   "id": "ab2a79a6",
   "metadata": {},
   "outputs": [
    {
     "name": "stdout",
     "output_type": "stream",
     "text": [
      "p\n",
      "w\n",
      "s\n",
      "k\n",
      "i\n",
      "l\n",
      "l\n",
      "s\n"
     ]
    }
   ],
   "source": [
    "for letter in \"pwskills\":\n",
    "    if letter == 'l':\n",
    "        pass\n",
    "    print(letter)"
   ]
  },
  {
   "cell_type": "markdown",
   "id": "66abf314",
   "metadata": {},
   "source": [
    "### FUNCTIONS"
   ]
  },
  {
   "cell_type": "code",
   "execution_count": 39,
   "id": "cc514a7d",
   "metadata": {},
   "outputs": [
    {
     "name": "stdout",
     "output_type": "stream",
     "text": [
      "30\n"
     ]
    }
   ],
   "source": [
    "a = 10\n",
    "b = 20\n",
    "print(a+b)"
   ]
  },
  {
   "cell_type": "code",
   "execution_count": 40,
   "id": "c915c360",
   "metadata": {},
   "outputs": [
    {
     "name": "stdout",
     "output_type": "stream",
     "text": [
      "170\n"
     ]
    }
   ],
   "source": [
    "a = 80\n",
    "b = 90\n",
    "print(a+b)"
   ]
  },
  {
   "cell_type": "code",
   "execution_count": 41,
   "id": "80d006bc",
   "metadata": {},
   "outputs": [
    {
     "name": "stdout",
     "output_type": "stream",
     "text": [
      "47\n"
     ]
    }
   ],
   "source": [
    "a = 45\n",
    "b = 2\n",
    "print(a+b)"
   ]
  },
  {
   "cell_type": "code",
   "execution_count": null,
   "id": "86637b56",
   "metadata": {},
   "outputs": [],
   "source": [
    "Create a function\n",
    "\n",
    "def function_name(arguments):\n",
    "    #function body\n",
    "    \n",
    "    return\n",
    "--------------------------------------\n",
    "\n",
    "Call a function\n",
    "\n",
    "function_name()"
   ]
  },
  {
   "cell_type": "code",
   "execution_count": 42,
   "id": "2e65f7c9",
   "metadata": {},
   "outputs": [],
   "source": [
    "def addition(a,b):\n",
    "    sum=a+b\n",
    "    print(a+b)"
   ]
  },
  {
   "cell_type": "code",
   "execution_count": 43,
   "id": "d13e39cb",
   "metadata": {},
   "outputs": [
    {
     "name": "stdout",
     "output_type": "stream",
     "text": [
      "15\n"
     ]
    }
   ],
   "source": [
    "addition(7,8)"
   ]
  },
  {
   "cell_type": "code",
   "execution_count": 44,
   "id": "fd20b3e8",
   "metadata": {},
   "outputs": [],
   "source": [
    "def addition(a,b):\n",
    "    return a+b"
   ]
  },
  {
   "cell_type": "code",
   "execution_count": 45,
   "id": "f102cf72",
   "metadata": {},
   "outputs": [
    {
     "data": {
      "text/plain": [
       "30"
      ]
     },
     "execution_count": 45,
     "metadata": {},
     "output_type": "execute_result"
    }
   ],
   "source": [
    "addition(10,20)"
   ]
  },
  {
   "cell_type": "code",
   "execution_count": 46,
   "id": "301e61d4",
   "metadata": {},
   "outputs": [],
   "source": [
    "def greet():\n",
    "    print(\"Hello World\")"
   ]
  },
  {
   "cell_type": "code",
   "execution_count": 47,
   "id": "c091dd46",
   "metadata": {},
   "outputs": [
    {
     "name": "stdout",
     "output_type": "stream",
     "text": [
      "Hello World\n"
     ]
    }
   ],
   "source": [
    "greet()"
   ]
  },
  {
   "cell_type": "code",
   "execution_count": 48,
   "id": "1c4ee391",
   "metadata": {},
   "outputs": [],
   "source": [
    "def add_two_num():\n",
    "    a = int(input(\"Enter the first number\"))\n",
    "    b = int(input(\"Enter second number\"))\n",
    "    c = a+b\n",
    "    print(c)"
   ]
  },
  {
   "cell_type": "code",
   "execution_count": 49,
   "id": "4848e561",
   "metadata": {},
   "outputs": [
    {
     "name": "stdout",
     "output_type": "stream",
     "text": [
      "Enter the first number5\n",
      "Enter second number7\n",
      "12\n"
     ]
    }
   ],
   "source": [
    "add_two_num()"
   ]
  },
  {
   "cell_type": "code",
   "execution_count": 3,
   "id": "a661c222",
   "metadata": {},
   "outputs": [],
   "source": [
    "def multiply_two_numbers(x,y):\n",
    "    a=x\n",
    "    b=y\n",
    "    c=a*b\n",
    "    print(c)"
   ]
  },
  {
   "cell_type": "code",
   "execution_count": 5,
   "id": "060e2d72",
   "metadata": {},
   "outputs": [
    {
     "name": "stdout",
     "output_type": "stream",
     "text": [
      "12\n"
     ]
    }
   ],
   "source": [
    "multiply_two_numbers(3,4)"
   ]
  },
  {
   "cell_type": "code",
   "execution_count": 6,
   "id": "a8eb39ae",
   "metadata": {},
   "outputs": [],
   "source": [
    "def introduction(name):\n",
    "    print(\"hi\",name)"
   ]
  },
  {
   "cell_type": "code",
   "execution_count": 8,
   "id": "8a58cc54",
   "metadata": {},
   "outputs": [
    {
     "name": "stdout",
     "output_type": "stream",
     "text": [
      "hi pwskills\n"
     ]
    }
   ],
   "source": [
    "introduction('pwskills')"
   ]
  },
  {
   "cell_type": "code",
   "execution_count": 9,
   "id": "7a64830a",
   "metadata": {},
   "outputs": [],
   "source": [
    "def intro(name,surname):\n",
    "    print('hi',name,surname)"
   ]
  },
  {
   "cell_type": "code",
   "execution_count": 11,
   "id": "465e569a",
   "metadata": {},
   "outputs": [
    {
     "name": "stdout",
     "output_type": "stream",
     "text": [
      "hi Nakul Desai\n"
     ]
    }
   ],
   "source": [
    "intro('Nakul','Desai')"
   ]
  },
  {
   "cell_type": "code",
   "execution_count": 15,
   "id": "1e0d1dd8",
   "metadata": {},
   "outputs": [],
   "source": [
    "def absolute(a):\n",
    "    if a>=0:\n",
    "        print(a)\n",
    "    else:\n",
    "        print(-a)"
   ]
  },
  {
   "cell_type": "code",
   "execution_count": 16,
   "id": "3588f2d8",
   "metadata": {},
   "outputs": [
    {
     "name": "stdout",
     "output_type": "stream",
     "text": [
      "1\n"
     ]
    }
   ],
   "source": [
    "absolute(-1)"
   ]
  },
  {
   "cell_type": "code",
   "execution_count": 17,
   "id": "d9b315ba",
   "metadata": {},
   "outputs": [
    {
     "name": "stdout",
     "output_type": "stream",
     "text": [
      "6\n"
     ]
    }
   ],
   "source": [
    "absolute(6)"
   ]
  },
  {
   "cell_type": "code",
   "execution_count": 20,
   "id": "372d508a",
   "metadata": {},
   "outputs": [],
   "source": [
    "def full_name(a,b):\n",
    "    c=a+b\n",
    "    return c"
   ]
  },
  {
   "cell_type": "code",
   "execution_count": 22,
   "id": "0f7838a0",
   "metadata": {},
   "outputs": [],
   "source": [
    "x=full_name('pw','skills')"
   ]
  },
  {
   "cell_type": "code",
   "execution_count": 23,
   "id": "88be06f5",
   "metadata": {},
   "outputs": [
    {
     "data": {
      "text/plain": [
       "'pwskills'"
      ]
     },
     "execution_count": 23,
     "metadata": {},
     "output_type": "execute_result"
    }
   ],
   "source": [
    "x"
   ]
  },
  {
   "cell_type": "code",
   "execution_count": 24,
   "id": "1804fc54",
   "metadata": {},
   "outputs": [],
   "source": [
    "def full_name(a,b):\n",
    "    c=a+b\n",
    "    print(c)"
   ]
  },
  {
   "cell_type": "code",
   "execution_count": 25,
   "id": "18b37105",
   "metadata": {},
   "outputs": [
    {
     "name": "stdout",
     "output_type": "stream",
     "text": [
      "pwskills\n"
     ]
    }
   ],
   "source": [
    "x=full_name('pw','skills')"
   ]
  },
  {
   "cell_type": "code",
   "execution_count": 26,
   "id": "2adf6803",
   "metadata": {},
   "outputs": [],
   "source": [
    "x"
   ]
  },
  {
   "cell_type": "code",
   "execution_count": 27,
   "id": "ce8e230d",
   "metadata": {},
   "outputs": [],
   "source": [
    "def full_name(a,b):\n",
    "    c=a+b\n",
    "    return"
   ]
  },
  {
   "cell_type": "code",
   "execution_count": 28,
   "id": "9a501647",
   "metadata": {},
   "outputs": [],
   "source": [
    "x=full_name('pw','skills')"
   ]
  },
  {
   "cell_type": "code",
   "execution_count": 29,
   "id": "50336c56",
   "metadata": {},
   "outputs": [],
   "source": [
    "x"
   ]
  },
  {
   "cell_type": "code",
   "execution_count": 30,
   "id": "52e1278a",
   "metadata": {},
   "outputs": [
    {
     "data": {
      "text/plain": [
       "NoneType"
      ]
     },
     "execution_count": 30,
     "metadata": {},
     "output_type": "execute_result"
    }
   ],
   "source": [
    "type(x)"
   ]
  },
  {
   "cell_type": "code",
   "execution_count": 31,
   "id": "a5c89805",
   "metadata": {},
   "outputs": [],
   "source": [
    "def introduction(name):\n",
    "    print(\"Hi\",name)"
   ]
  },
  {
   "cell_type": "code",
   "execution_count": 32,
   "id": "b75b6d8c",
   "metadata": {},
   "outputs": [
    {
     "name": "stdout",
     "output_type": "stream",
     "text": [
      "Hi Nakul\n"
     ]
    }
   ],
   "source": [
    "introduction(\"Nakul\")"
   ]
  },
  {
   "cell_type": "code",
   "execution_count": 33,
   "id": "f1c904b7",
   "metadata": {},
   "outputs": [],
   "source": [
    "def fullname(a,b):\n",
    "    c=a+b\n",
    "    return"
   ]
  },
  {
   "cell_type": "code",
   "execution_count": 34,
   "id": "34d23f6b",
   "metadata": {},
   "outputs": [],
   "source": [
    "w=fullname('pw','skills')"
   ]
  },
  {
   "cell_type": "code",
   "execution_count": 35,
   "id": "ad49195b",
   "metadata": {},
   "outputs": [
    {
     "data": {
      "text/plain": [
       "NoneType"
      ]
     },
     "execution_count": 35,
     "metadata": {},
     "output_type": "execute_result"
    }
   ],
   "source": [
    "type(w)"
   ]
  },
  {
   "cell_type": "code",
   "execution_count": 42,
   "id": "b37800ed",
   "metadata": {},
   "outputs": [],
   "source": [
    "def calc(a,b):\n",
    "    print(\"PERFORM :'add','sub','div','mul'\")\n",
    "    operation=input(\"Enter operation to be performed :\")\n",
    "    if operation == 'add':\n",
    "        return a+b\n",
    "    if operation == 'sub':\n",
    "        return a-b\n",
    "    if operation == 'div':\n",
    "        return a/b\n",
    "    if operation == 'mul':\n",
    "        return a*b\n",
    "    "
   ]
  },
  {
   "cell_type": "code",
   "execution_count": 43,
   "id": "c44b91ac",
   "metadata": {},
   "outputs": [
    {
     "name": "stdout",
     "output_type": "stream",
     "text": [
      "PERFORM :'add','sub','div','mul'\n",
      "Enter operation to be performed :div\n"
     ]
    },
    {
     "data": {
      "text/plain": [
       "2.5"
      ]
     },
     "execution_count": 43,
     "metadata": {},
     "output_type": "execute_result"
    }
   ],
   "source": [
    "calc(10,4)"
   ]
  },
  {
   "cell_type": "code",
   "execution_count": 44,
   "id": "38e67eae",
   "metadata": {},
   "outputs": [
    {
     "name": "stdout",
     "output_type": "stream",
     "text": [
      "PERFORM :'add','sub','div','mul'\n",
      "Enter operation to be performed :sub\n"
     ]
    },
    {
     "data": {
      "text/plain": [
       "15"
      ]
     },
     "execution_count": 44,
     "metadata": {},
     "output_type": "execute_result"
    }
   ],
   "source": [
    "calc(20,5)"
   ]
  },
  {
   "cell_type": "code",
   "execution_count": 47,
   "id": "5b2c9969",
   "metadata": {},
   "outputs": [],
   "source": [
    "def area_circle(radius):\n",
    "    return 3.14*radius**2"
   ]
  },
  {
   "cell_type": "code",
   "execution_count": 48,
   "id": "4f805e5e",
   "metadata": {},
   "outputs": [
    {
     "data": {
      "text/plain": [
       "78.5"
      ]
     },
     "execution_count": 48,
     "metadata": {},
     "output_type": "execute_result"
    }
   ],
   "source": [
    "area_circle(5)"
   ]
  },
  {
   "cell_type": "code",
   "execution_count": 49,
   "id": "78e18c41",
   "metadata": {},
   "outputs": [],
   "source": [
    "def area_rect(l,b):\n",
    "    return l*b"
   ]
  },
  {
   "cell_type": "code",
   "execution_count": 50,
   "id": "763e501a",
   "metadata": {},
   "outputs": [
    {
     "data": {
      "text/plain": [
       "20"
      ]
     },
     "execution_count": 50,
     "metadata": {},
     "output_type": "execute_result"
    }
   ],
   "source": [
    "area_rect(5,4)"
   ]
  },
  {
   "cell_type": "code",
   "execution_count": 51,
   "id": "1af93d46",
   "metadata": {},
   "outputs": [],
   "source": [
    "def area_triangle(b,h):\n",
    "    return .5*b*h"
   ]
  },
  {
   "cell_type": "code",
   "execution_count": 52,
   "id": "0b109ab8",
   "metadata": {},
   "outputs": [
    {
     "data": {
      "text/plain": [
       "10.0"
      ]
     },
     "execution_count": 52,
     "metadata": {},
     "output_type": "execute_result"
    }
   ],
   "source": [
    "area_triangle(10,2)"
   ]
  },
  {
   "cell_type": "code",
   "execution_count": 1,
   "id": "65e09c0f",
   "metadata": {},
   "outputs": [
    {
     "name": "stdout",
     "output_type": "stream",
     "text": [
      "1\n",
      "2\n",
      "3\n",
      "4\n",
      "5\n"
     ]
    }
   ],
   "source": [
    "for i in range(1,6):\n",
    "    print(i)"
   ]
  },
  {
   "cell_type": "code",
   "execution_count": 74,
   "id": "97ea3a3d",
   "metadata": {},
   "outputs": [
    {
     "name": "stdout",
     "output_type": "stream",
     "text": [
      "* \n",
      "* * \n",
      "* * * \n",
      "* * * * \n",
      "* * * * * \n"
     ]
    }
   ],
   "source": [
    "for i in range(1,6):\n",
    "    for j in range(i) :\n",
    "        print(\"*\",end=\" \")\n",
    "    print()"
   ]
  },
  {
   "cell_type": "code",
   "execution_count": 12,
   "id": "ced28fdb",
   "metadata": {},
   "outputs": [],
   "source": [
    "def square(a):\n",
    "    return a**2"
   ]
  },
  {
   "cell_type": "code",
   "execution_count": 13,
   "id": "44011abb",
   "metadata": {},
   "outputs": [
    {
     "data": {
      "text/plain": [
       "25"
      ]
     },
     "execution_count": 13,
     "metadata": {},
     "output_type": "execute_result"
    }
   ],
   "source": [
    "square(5)"
   ]
  },
  {
   "cell_type": "code",
   "execution_count": 14,
   "id": "97133eed",
   "metadata": {},
   "outputs": [],
   "source": [
    "def add(a,b):\n",
    "    return a+b"
   ]
  },
  {
   "cell_type": "code",
   "execution_count": 15,
   "id": "bfc29993",
   "metadata": {},
   "outputs": [
    {
     "data": {
      "text/plain": [
       "13"
      ]
     },
     "execution_count": 15,
     "metadata": {},
     "output_type": "execute_result"
    }
   ],
   "source": [
    "add(6,7)"
   ]
  },
  {
   "cell_type": "code",
   "execution_count": 16,
   "id": "3c9ad734",
   "metadata": {},
   "outputs": [],
   "source": [
    "def add_words(w1,w2):\n",
    "    print(w1,\" \",w2)"
   ]
  },
  {
   "cell_type": "code",
   "execution_count": 17,
   "id": "6832b7c7",
   "metadata": {},
   "outputs": [
    {
     "name": "stdout",
     "output_type": "stream",
     "text": [
      "nakul   desai\n"
     ]
    }
   ],
   "source": [
    "add_words(\"nakul\",\"desai\")"
   ]
  },
  {
   "cell_type": "code",
   "execution_count": 24,
   "id": "93cd0980",
   "metadata": {},
   "outputs": [],
   "source": [
    "#create a Python program that includes a user defined function called print_even_number()\n",
    "\n",
    "\n",
    "def print_even_number(a,b):\n",
    "    for i in range(a,b+1):\n",
    "        if i%2==0:\n",
    "            print(i,end=\" \")\n",
    "        \n",
    "    "
   ]
  },
  {
   "cell_type": "code",
   "execution_count": 25,
   "id": "e819e58a",
   "metadata": {},
   "outputs": [
    {
     "name": "stdout",
     "output_type": "stream",
     "text": [
      "2 4 6 8 10 12 14 16 18 20 22 24 26 28 30 32 34 36 38 40 42 44 46 48 50 "
     ]
    }
   ],
   "source": [
    "print_even_number(2,50)"
   ]
  },
  {
   "cell_type": "code",
   "execution_count": 26,
   "id": "636657be",
   "metadata": {},
   "outputs": [],
   "source": [
    "def check_rt_triangle(x,y,z):\n",
    "    if x**2==y**2+z**2:\n",
    "        print(\"Right angle triangle\")\n",
    "    elif x**2+y**2==z**2:\n",
    "         print(\"Right angle triangle\")\n",
    "    elif x**2+z**2==y**2:\n",
    "         print(\"Right angle triangle\")\n",
    "    else:\n",
    "        print(\"Not a right angle triangle\")\n",
    "        \n",
    "        "
   ]
  },
  {
   "cell_type": "code",
   "execution_count": 27,
   "id": "ce37a96b",
   "metadata": {},
   "outputs": [
    {
     "name": "stdout",
     "output_type": "stream",
     "text": [
      "Right angle triangle\n"
     ]
    }
   ],
   "source": [
    "check_rt_triangle(5,12,13)"
   ]
  },
  {
   "cell_type": "code",
   "execution_count": 28,
   "id": "67326bd0",
   "metadata": {},
   "outputs": [
    {
     "name": "stdout",
     "output_type": "stream",
     "text": [
      "Right angle triangle\n"
     ]
    }
   ],
   "source": [
    "check_rt_triangle(13,12,5)"
   ]
  },
  {
   "cell_type": "code",
   "execution_count": 29,
   "id": "9126cf2d",
   "metadata": {},
   "outputs": [
    {
     "name": "stdout",
     "output_type": "stream",
     "text": [
      "Right angle triangle\n"
     ]
    }
   ],
   "source": [
    "check_rt_triangle(12,13,5)"
   ]
  },
  {
   "cell_type": "code",
   "execution_count": 30,
   "id": "3603e554",
   "metadata": {},
   "outputs": [
    {
     "name": "stdout",
     "output_type": "stream",
     "text": [
      "Not a right angle triangle\n"
     ]
    }
   ],
   "source": [
    "check_rt_triangle(2,4,5)"
   ]
  },
  {
   "cell_type": "code",
   "execution_count": 31,
   "id": "197bcc06",
   "metadata": {},
   "outputs": [
    {
     "name": "stdout",
     "output_type": "stream",
     "text": [
      "Right angle triangle\n"
     ]
    }
   ],
   "source": [
    "check_rt_triangle(3,4,5)"
   ]
  },
  {
   "cell_type": "code",
   "execution_count": 3,
   "id": "fc062c2e",
   "metadata": {},
   "outputs": [],
   "source": [
    "def check_valid_password():\n",
    "    \n",
    "    s = input(\"enter the password to be checked\")\n",
    "    \n",
    "    if 8 <= len(s) <= 32 and s[0].isupper() and s[-1].islower():\n",
    "        invalid_chars=\"/\\\\='\\\"\"\n",
    "        \n",
    "        for char in s:\n",
    "            if char in  invalid_chars :\n",
    "                print(\"False\")\n",
    "                return\n",
    "        print(\"True\")\n",
    "           \n",
    "    else:\n",
    "        print(\"False\")\n",
    "    \n",
    "        "
   ]
  },
  {
   "cell_type": "code",
   "execution_count": 6,
   "id": "88236c3b",
   "metadata": {},
   "outputs": [
    {
     "name": "stdout",
     "output_type": "stream",
     "text": [
      "enter the password to be checkedNakul@Desai\n",
      "True\n"
     ]
    }
   ],
   "source": [
    "check_valid_password()"
   ]
  },
  {
   "cell_type": "code",
   "execution_count": null,
   "id": "df3a2348",
   "metadata": {},
   "outputs": [],
   "source": [
    "def check_valid_password():\n",
    "    s = input(\"Enter the password to be checked: \")\n",
    "    \n",
    "    if 8 <= len(s) <= 32 and s[0].isupper() and s[-1].islower():\n",
    "        invalid_chars = \"/\\\\='\\\" \"\n",
    "        \n",
    "        for char in s:\n",
    "            if char in invalid_chars:\n",
    "                print(\"False\")\n",
    "                return\n",
    "        \n",
    "        print(\"True\")\n",
    "    else:\n",
    "        print(\"False\")\n",
    "\n",
    "# Call the function to check a password\n",
    "check_valid_password()\n"
   ]
  },
  {
   "cell_type": "code",
   "execution_count": 1,
   "id": "6878ed66",
   "metadata": {},
   "outputs": [],
   "source": [
    "def greet():\n",
    "    \n",
    "    message=\"Hello\"\n",
    "    \n",
    "    print(\"local\",message)\n",
    "    "
   ]
  },
  {
   "cell_type": "code",
   "execution_count": 2,
   "id": "b57c9d18",
   "metadata": {},
   "outputs": [
    {
     "name": "stdout",
     "output_type": "stream",
     "text": [
      "local Hello\n"
     ]
    }
   ],
   "source": [
    "greet()"
   ]
  },
  {
   "cell_type": "code",
   "execution_count": 3,
   "id": "248e4a7f",
   "metadata": {},
   "outputs": [
    {
     "ename": "NameError",
     "evalue": "name 'message' is not defined",
     "output_type": "error",
     "traceback": [
      "\u001b[1;31m---------------------------------------------------------------------------\u001b[0m",
      "\u001b[1;31mNameError\u001b[0m                                 Traceback (most recent call last)",
      "Cell \u001b[1;32mIn[3], line 7\u001b[0m\n\u001b[0;32m      3\u001b[0m     message\u001b[38;5;241m=\u001b[39m\u001b[38;5;124m\"\u001b[39m\u001b[38;5;124mHello\u001b[39m\u001b[38;5;124m\"\u001b[39m\n\u001b[0;32m      5\u001b[0m     \u001b[38;5;28mprint\u001b[39m(\u001b[38;5;124m\"\u001b[39m\u001b[38;5;124mlocal\u001b[39m\u001b[38;5;124m\"\u001b[39m,message)\n\u001b[1;32m----> 7\u001b[0m \u001b[38;5;28mprint\u001b[39m(message)\n\u001b[0;32m      8\u001b[0m greet()\n",
      "\u001b[1;31mNameError\u001b[0m: name 'message' is not defined"
     ]
    }
   ],
   "source": [
    "def greet():\n",
    "    \n",
    "    message=\"Hello\"  #It is a local variable and can be created only inside the def function\n",
    "    \n",
    "    print(\"local\",message)\n",
    "    \n",
    "print(message)\n",
    "greet()"
   ]
  },
  {
   "cell_type": "code",
   "execution_count": 4,
   "id": "f962265f",
   "metadata": {},
   "outputs": [
    {
     "ename": "NameError",
     "evalue": "name 'x' is not defined",
     "output_type": "error",
     "traceback": [
      "\u001b[1;31m---------------------------------------------------------------------------\u001b[0m",
      "\u001b[1;31mNameError\u001b[0m                                 Traceback (most recent call last)",
      "Cell \u001b[1;32mIn[4], line 5\u001b[0m\n\u001b[0;32m      3\u001b[0m     y\u001b[38;5;241m=\u001b[39m\u001b[38;5;241m30\u001b[39m\n\u001b[0;32m      4\u001b[0m     \u001b[38;5;28mprint\u001b[39m(x\u001b[38;5;241m+\u001b[39my)\n\u001b[1;32m----> 5\u001b[0m \u001b[38;5;28mprint\u001b[39m(x)\n\u001b[0;32m      6\u001b[0m \u001b[38;5;28mprint\u001b[39m(y)\n",
      "\u001b[1;31mNameError\u001b[0m: name 'x' is not defined"
     ]
    }
   ],
   "source": [
    "#Local Variable\n",
    "def add():\n",
    "    x=20\n",
    "    y=30\n",
    "    print(x+y)\n",
    "print(x)\n",
    "print(y)"
   ]
  },
  {
   "cell_type": "code",
   "execution_count": 6,
   "id": "432fc64a",
   "metadata": {},
   "outputs": [
    {
     "name": "stdout",
     "output_type": "stream",
     "text": [
      "Python is fantastic\n",
      "awesome\n"
     ]
    }
   ],
   "source": [
    "#Global Variable\n",
    "\n",
    "x= \"awesome\" #-------Global Scope\n",
    "\n",
    "def myfunc():\n",
    "    x=\"fantastic\" #======Local scope\n",
    "    print(\"Python is \" + x)\n",
    "myfunc()\n",
    "print(x)"
   ]
  },
  {
   "cell_type": "code",
   "execution_count": 16,
   "id": "8ccec262",
   "metadata": {},
   "outputs": [],
   "source": [
    "x = 20\n",
    "\n",
    "def add():\n",
    "    y=30\n",
    "    print(\"Local variable y=\",y)\n",
    "    \n",
    "    print(\"Global variable x=\",x)\n",
    "    \n",
    "    z=x+y\n",
    "    print(z)\n",
    "    \n",
    "    \n",
    "def sub():\n",
    "        m=10\n",
    "        print(\"Local variable m=\",m)\n",
    "        print(\"Global variable x=\",x)\n",
    "            \n",
    "   "
   ]
  },
  {
   "cell_type": "code",
   "execution_count": 17,
   "id": "ac1aca6d",
   "metadata": {},
   "outputs": [
    {
     "name": "stdout",
     "output_type": "stream",
     "text": [
      "Local variable y= 30\n",
      "Global variable x= 20\n",
      "50\n"
     ]
    }
   ],
   "source": [
    "add()"
   ]
  },
  {
   "cell_type": "code",
   "execution_count": 18,
   "id": "3eb615ec",
   "metadata": {},
   "outputs": [
    {
     "name": "stdout",
     "output_type": "stream",
     "text": [
      "Local variable m= 10\n",
      "Global variable x= 20\n"
     ]
    }
   ],
   "source": [
    "sub()"
   ]
  },
  {
   "cell_type": "markdown",
   "id": "742d5f3e",
   "metadata": {},
   "source": [
    "#### ARGUMENT TYPES"
   ]
  },
  {
   "cell_type": "code",
   "execution_count": 19,
   "id": "fe487341",
   "metadata": {},
   "outputs": [],
   "source": [
    "#Python Functional arguments\n"
   ]
  },
  {
   "cell_type": "code",
   "execution_count": 26,
   "id": "de2a3fa5",
   "metadata": {},
   "outputs": [],
   "source": [
    "#Positional Argument\n",
    "\n",
    "def add_numbers(a,b):\n",
    "    sum = a+b\n",
    "    print(\"sum\",sum)\n",
    "    \n",
    "    \n",
    "def emp_name(name):\n",
    "    print(\"My name is :\",name)"
   ]
  },
  {
   "cell_type": "code",
   "execution_count": 27,
   "id": "5661011c",
   "metadata": {},
   "outputs": [
    {
     "name": "stdout",
     "output_type": "stream",
     "text": [
      "sum 7\n"
     ]
    }
   ],
   "source": [
    "add_numbers(2,5)"
   ]
  },
  {
   "cell_type": "code",
   "execution_count": 28,
   "id": "155830bb",
   "metadata": {},
   "outputs": [
    {
     "name": "stdout",
     "output_type": "stream",
     "text": [
      "My name is : nakul\n"
     ]
    }
   ],
   "source": [
    "emp_name('nakul')"
   ]
  },
  {
   "cell_type": "code",
   "execution_count": 38,
   "id": "dbf5f6ee",
   "metadata": {},
   "outputs": [],
   "source": [
    "#Default Argumenmt\n",
    "\n",
    "def add_numbers(a=4,b=5):\n",
    "    sum=a+b\n",
    "    print(\"sum\",sum)\n",
    "    \n",
    "\n",
    "        \n",
    "def emp_name(name=\"pwskills\"):\n",
    "    print(\"My name is :\",name)\n",
    "    \n"
   ]
  },
  {
   "cell_type": "code",
   "execution_count": 39,
   "id": "d5c5f734",
   "metadata": {},
   "outputs": [
    {
     "name": "stdout",
     "output_type": "stream",
     "text": [
      "sum 9\n"
     ]
    }
   ],
   "source": [
    "add_numbers()"
   ]
  },
  {
   "cell_type": "code",
   "execution_count": 40,
   "id": "0583c901",
   "metadata": {},
   "outputs": [
    {
     "name": "stdout",
     "output_type": "stream",
     "text": [
      "sum 9\n"
     ]
    }
   ],
   "source": [
    "add_numbers()"
   ]
  },
  {
   "cell_type": "code",
   "execution_count": 41,
   "id": "6debced1",
   "metadata": {},
   "outputs": [
    {
     "name": "stdout",
     "output_type": "stream",
     "text": [
      "sum 12\n"
     ]
    }
   ],
   "source": [
    "add_numbers(2,10)"
   ]
  },
  {
   "cell_type": "code",
   "execution_count": 42,
   "id": "bcc2d041",
   "metadata": {},
   "outputs": [
    {
     "name": "stdout",
     "output_type": "stream",
     "text": [
      "My name is : pwskills\n"
     ]
    }
   ],
   "source": [
    "emp_name()"
   ]
  },
  {
   "cell_type": "code",
   "execution_count": 43,
   "id": "2063eded",
   "metadata": {},
   "outputs": [
    {
     "name": "stdout",
     "output_type": "stream",
     "text": [
      "My name is : Nakul\n"
     ]
    }
   ],
   "source": [
    "emp_name('Nakul')"
   ]
  },
  {
   "cell_type": "code",
   "execution_count": 44,
   "id": "ab1afb5a",
   "metadata": {},
   "outputs": [],
   "source": [
    "#Keyword Arguments\n",
    "\n",
    "\n",
    "def display_info(first_name,last_name):\n",
    "    print(\"first name\",first_name)\n",
    "    print(\"second name\",last_name)"
   ]
  },
  {
   "cell_type": "code",
   "execution_count": 45,
   "id": "9022d5d2",
   "metadata": {},
   "outputs": [
    {
     "name": "stdout",
     "output_type": "stream",
     "text": [
      "first name pw\n",
      "second name skills\n"
     ]
    }
   ],
   "source": [
    "display_info(first_name='pw',last_name='skills')"
   ]
  },
  {
   "cell_type": "code",
   "execution_count": 46,
   "id": "58784014",
   "metadata": {},
   "outputs": [
    {
     "name": "stdout",
     "output_type": "stream",
     "text": [
      "first name pw\n",
      "second name skills\n"
     ]
    }
   ],
   "source": [
    "display_info(last_name='skills',first_name='pw')"
   ]
  },
  {
   "cell_type": "code",
   "execution_count": 47,
   "id": "9b4850ab",
   "metadata": {},
   "outputs": [
    {
     "name": "stdout",
     "output_type": "stream",
     "text": [
      "sum 9\n"
     ]
    }
   ],
   "source": [
    "add_numbers(a=4,b=5)"
   ]
  },
  {
   "cell_type": "code",
   "execution_count": 48,
   "id": "7bcbdeb8",
   "metadata": {},
   "outputs": [
    {
     "name": "stdout",
     "output_type": "stream",
     "text": [
      "sum 9\n"
     ]
    }
   ],
   "source": [
    "add_numbers(b=5,a=4)"
   ]
  },
  {
   "cell_type": "code",
   "execution_count": 61,
   "id": "bc46bdee",
   "metadata": {},
   "outputs": [],
   "source": [
    "#Variable Length Arguments\n",
    "\n",
    "#*args\n",
    "def find_sum(*numbers):\n",
    "    result=0\n",
    "    \n",
    "    for num in numbers:\n",
    "        result+=num\n",
    "    print(\"sum\",result)\n",
    "\n"
   ]
  },
  {
   "cell_type": "code",
   "execution_count": 62,
   "id": "08725595",
   "metadata": {},
   "outputs": [
    {
     "name": "stdout",
     "output_type": "stream",
     "text": [
      "sum 0\n"
     ]
    }
   ],
   "source": [
    "find_num()"
   ]
  },
  {
   "cell_type": "code",
   "execution_count": 63,
   "id": "68c3987d",
   "metadata": {},
   "outputs": [
    {
     "name": "stdout",
     "output_type": "stream",
     "text": [
      "sum 45\n"
     ]
    }
   ],
   "source": [
    "find_sum(1,2,3,4,5,6,7,8,9)  #We can add anu number of argument"
   ]
  },
  {
   "cell_type": "code",
   "execution_count": 64,
   "id": "a1de7444",
   "metadata": {},
   "outputs": [
    {
     "name": "stdout",
     "output_type": "stream",
     "text": [
      "sum 40\n"
     ]
    }
   ],
   "source": [
    "find_sum(6,7,8,9,10)"
   ]
  },
  {
   "cell_type": "code",
   "execution_count": 65,
   "id": "f109cb26",
   "metadata": {},
   "outputs": [],
   "source": [
    "def simple(*x):\n",
    "    print(x)"
   ]
  },
  {
   "cell_type": "code",
   "execution_count": 66,
   "id": "3163f1c4",
   "metadata": {},
   "outputs": [
    {
     "name": "stdout",
     "output_type": "stream",
     "text": [
      "()\n"
     ]
    }
   ],
   "source": [
    "simple()"
   ]
  },
  {
   "cell_type": "code",
   "execution_count": 67,
   "id": "8f823ac0",
   "metadata": {},
   "outputs": [
    {
     "name": "stdout",
     "output_type": "stream",
     "text": [
      "(1, 2, 3, 4)\n"
     ]
    }
   ],
   "source": [
    "simple(1,2,3,4)"
   ]
  },
  {
   "cell_type": "code",
   "execution_count": 68,
   "id": "77bfa493",
   "metadata": {},
   "outputs": [
    {
     "name": "stdout",
     "output_type": "stream",
     "text": [
      "(4, 5, 6, 7, 8, 9)\n"
     ]
    }
   ],
   "source": [
    "simple(4,5,6,7,8,9)"
   ]
  },
  {
   "cell_type": "code",
   "execution_count": 4,
   "id": "0a74f8e7",
   "metadata": {},
   "outputs": [],
   "source": [
    "#*kwargs\n",
    "\n",
    "def intro(**data):\n",
    "    print(\"Datatype of argument\",type(data))\n",
    "    \n",
    "    \n",
    "    for key,value in data.items():\n",
    "        print(key,value)"
   ]
  },
  {
   "cell_type": "code",
   "execution_count": 5,
   "id": "c919ece4",
   "metadata": {},
   "outputs": [
    {
     "name": "stdout",
     "output_type": "stream",
     "text": [
      "Datatype of argument <class 'dict'>\n",
      "firstname PW\n",
      "lastname skills\n"
     ]
    }
   ],
   "source": [
    "intro(firstname='PW',lastname='skills')"
   ]
  },
  {
   "cell_type": "code",
   "execution_count": 2,
   "id": "178b7c1c",
   "metadata": {},
   "outputs": [
    {
     "name": "stdout",
     "output_type": "stream",
     "text": [
      "a 1\n",
      "b 3\n"
     ]
    }
   ],
   "source": [
    "x={'a':1,'b':3}\n",
    "for keys,value in x.items():\n",
    "    print(keys,value)\n"
   ]
  },
  {
   "cell_type": "code",
   "execution_count": 3,
   "id": "f1094bbe",
   "metadata": {},
   "outputs": [
    {
     "data": {
      "text/plain": [
       "dict_items([('a', 1), ('b', 3)])"
      ]
     },
     "execution_count": 3,
     "metadata": {},
     "output_type": "execute_result"
    }
   ],
   "source": [
    "x.items()"
   ]
  },
  {
   "cell_type": "code",
   "execution_count": 6,
   "id": "89c617e8",
   "metadata": {},
   "outputs": [],
   "source": [
    "def simple(**x):\n",
    "    print(x)"
   ]
  },
  {
   "cell_type": "code",
   "execution_count": 7,
   "id": "ff8161f6",
   "metadata": {},
   "outputs": [
    {
     "name": "stdout",
     "output_type": "stream",
     "text": [
      "{'name': 'Nakul', 'age': 28, 'id_no': 23}\n"
     ]
    }
   ],
   "source": [
    "simple(name='Nakul',age=28,id_no=23)"
   ]
  },
  {
   "cell_type": "code",
   "execution_count": 9,
   "id": "541d7b5b",
   "metadata": {},
   "outputs": [],
   "source": [
    "def simple1(*y):\n",
    "    print(y)"
   ]
  },
  {
   "cell_type": "code",
   "execution_count": 10,
   "id": "45a969c4",
   "metadata": {},
   "outputs": [
    {
     "name": "stdout",
     "output_type": "stream",
     "text": [
      "(3, 4, 5)\n"
     ]
    }
   ],
   "source": [
    "simple1(3,4,5)"
   ]
  },
  {
   "cell_type": "code",
   "execution_count": 11,
   "id": "be93ea9e",
   "metadata": {},
   "outputs": [
    {
     "name": "stdout",
     "output_type": "stream",
     "text": [
      "(4, 5, 6, 7, 8, 9)\n"
     ]
    }
   ],
   "source": [
    "simple1(4,5,6,7,8,9)"
   ]
  },
  {
   "cell_type": "code",
   "execution_count": 12,
   "id": "3f873947",
   "metadata": {},
   "outputs": [],
   "source": [
    "def simple(**x):\n",
    "    print(x)"
   ]
  },
  {
   "cell_type": "code",
   "execution_count": 13,
   "id": "84685074",
   "metadata": {},
   "outputs": [
    {
     "name": "stdout",
     "output_type": "stream",
     "text": [
      "{'name': 'nakul'}\n"
     ]
    }
   ],
   "source": [
    "simple(name=\"nakul\")"
   ]
  },
  {
   "cell_type": "code",
   "execution_count": 14,
   "id": "28488950",
   "metadata": {},
   "outputs": [
    {
     "name": "stdout",
     "output_type": "stream",
     "text": [
      "{'name': 'Nakul', 'surname': 'Desai', 'age': 28}\n"
     ]
    }
   ],
   "source": [
    "simple(name=\"Nakul\",surname=\"Desai\",age=28)"
   ]
  },
  {
   "cell_type": "code",
   "execution_count": 15,
   "id": "3470f3c6",
   "metadata": {},
   "outputs": [],
   "source": [
    "def shownumbers(*x):\n",
    "    print(x)"
   ]
  },
  {
   "cell_type": "code",
   "execution_count": 16,
   "id": "5f38fc20",
   "metadata": {},
   "outputs": [
    {
     "name": "stdout",
     "output_type": "stream",
     "text": [
      "(1,)\n"
     ]
    }
   ],
   "source": [
    "shownumbers(1)"
   ]
  },
  {
   "cell_type": "code",
   "execution_count": 17,
   "id": "d00e141b",
   "metadata": {},
   "outputs": [
    {
     "name": "stdout",
     "output_type": "stream",
     "text": [
      "(1, 2, 3, 4, 5)\n"
     ]
    }
   ],
   "source": [
    "shownumbers(1,2,3,4,5)"
   ]
  },
  {
   "cell_type": "code",
   "execution_count": 18,
   "id": "b2f66fe5",
   "metadata": {},
   "outputs": [],
   "source": [
    "def showkeyvalue(**y):\n",
    "    print(y)"
   ]
  },
  {
   "cell_type": "code",
   "execution_count": 19,
   "id": "454e7dcb",
   "metadata": {},
   "outputs": [
    {
     "name": "stdout",
     "output_type": "stream",
     "text": [
      "{'x': 1, 'y': 2}\n"
     ]
    }
   ],
   "source": [
    "showkeyvalue(x=1,y=2)"
   ]
  },
  {
   "cell_type": "code",
   "execution_count": 20,
   "id": "29884ad1",
   "metadata": {},
   "outputs": [
    {
     "name": "stdout",
     "output_type": "stream",
     "text": [
      "{'x': 1, 'y': 2, 'z': 'Pwskills', 'w': 'ineuron'}\n"
     ]
    }
   ],
   "source": [
    "showkeyvalue(x=1,y=2,z=\"Pwskills\",w=\"ineuron\")"
   ]
  },
  {
   "cell_type": "code",
   "execution_count": 21,
   "id": "5486ffc0",
   "metadata": {},
   "outputs": [],
   "source": [
    "def showvalue(*args):\n",
    "    print(args)"
   ]
  },
  {
   "cell_type": "code",
   "execution_count": 22,
   "id": "b3dc44c6",
   "metadata": {},
   "outputs": [
    {
     "name": "stdout",
     "output_type": "stream",
     "text": [
      "(1, 2, 3, 4, 5, 6, 7)\n"
     ]
    }
   ],
   "source": [
    "showvalue(1,2,3,4,5,6,7)"
   ]
  },
  {
   "cell_type": "code",
   "execution_count": 23,
   "id": "472b8481",
   "metadata": {},
   "outputs": [],
   "source": [
    "def showkeyvalue(**kwargs):\n",
    "    print(kwargs)"
   ]
  },
  {
   "cell_type": "code",
   "execution_count": 24,
   "id": "cd37ca76",
   "metadata": {},
   "outputs": [
    {
     "name": "stdout",
     "output_type": "stream",
     "text": [
      "{'name': 'Nakul', 'surname': 'Desai', 'age': 28, 'gender': 'Male'}\n"
     ]
    }
   ],
   "source": [
    "showkeyvalue(name='Nakul',surname=\"Desai\",age=28,gender=\"Male\")"
   ]
  },
  {
   "cell_type": "markdown",
   "id": "d8a772c3",
   "metadata": {},
   "source": [
    "##### LAMBDA FUNCTIONS"
   ]
  },
  {
   "cell_type": "code",
   "execution_count": null,
   "id": "44d01443",
   "metadata": {},
   "outputs": [],
   "source": [
    "It is an anonymous function i.e a function without a name\n",
    "\n",
    "Syntax:- lambda argument(s):Expression\n",
    "    \n",
    "e.g :- greet=lambda:print(\"Hello World\")"
   ]
  },
  {
   "cell_type": "code",
   "execution_count": 25,
   "id": "bbd59681",
   "metadata": {},
   "outputs": [],
   "source": [
    "greet=lambda:print(\"Hello World\")"
   ]
  },
  {
   "cell_type": "code",
   "execution_count": 27,
   "id": "8c69286d",
   "metadata": {},
   "outputs": [
    {
     "name": "stdout",
     "output_type": "stream",
     "text": [
      "Hello World\n"
     ]
    }
   ],
   "source": [
    "greet()"
   ]
  },
  {
   "cell_type": "code",
   "execution_count": 29,
   "id": "bd118195",
   "metadata": {},
   "outputs": [],
   "source": [
    "y=lambda:print(\"PW skills\")"
   ]
  },
  {
   "cell_type": "code",
   "execution_count": 30,
   "id": "0db4b4f7",
   "metadata": {},
   "outputs": [
    {
     "name": "stdout",
     "output_type": "stream",
     "text": [
      "PW skills\n"
     ]
    }
   ],
   "source": [
    "y()"
   ]
  },
  {
   "cell_type": "code",
   "execution_count": 32,
   "id": "af0c559e",
   "metadata": {},
   "outputs": [],
   "source": [
    "add_num=lambda a,b:a+b"
   ]
  },
  {
   "cell_type": "code",
   "execution_count": 33,
   "id": "8695dc82",
   "metadata": {},
   "outputs": [
    {
     "data": {
      "text/plain": [
       "9"
      ]
     },
     "execution_count": 33,
     "metadata": {},
     "output_type": "execute_result"
    }
   ],
   "source": [
    "add_num(2,7)"
   ]
  },
  {
   "cell_type": "code",
   "execution_count": 35,
   "id": "80362b70",
   "metadata": {},
   "outputs": [],
   "source": [
    "mul_num=lambda a,b : a*b"
   ]
  },
  {
   "cell_type": "code",
   "execution_count": 36,
   "id": "e2d81f8e",
   "metadata": {},
   "outputs": [
    {
     "data": {
      "text/plain": [
       "72"
      ]
     },
     "execution_count": 36,
     "metadata": {},
     "output_type": "execute_result"
    }
   ],
   "source": [
    "mul_num(9,8)"
   ]
  },
  {
   "cell_type": "code",
   "execution_count": 37,
   "id": "f600734e",
   "metadata": {},
   "outputs": [
    {
     "name": "stdout",
     "output_type": "stream",
     "text": [
      "Enter first number56\n",
      "Enter second number65\n",
      "(3136, 4225)\n"
     ]
    }
   ],
   "source": [
    "a = int(input(\"Enter first number\"))\n",
    "b = int(input(\"Enter second number\"))\n",
    "square = lambda a,b:(a**2,b**2)\n",
    "print(square(a,b))"
   ]
  },
  {
   "cell_type": "code",
   "execution_count": 38,
   "id": "ff4d50a2",
   "metadata": {},
   "outputs": [],
   "source": [
    "def evenodd(n):\n",
    "    if n%2==0:\n",
    "        print(\"number is even\")\n",
    "    else:\n",
    "        print(\"number is odd\")"
   ]
  },
  {
   "cell_type": "code",
   "execution_count": 41,
   "id": "59c101bd",
   "metadata": {},
   "outputs": [],
   "source": [
    "evenodd=lambda n:\"Even\"if n%2==0 else \"Odd\""
   ]
  },
  {
   "cell_type": "code",
   "execution_count": 42,
   "id": "2761ed44",
   "metadata": {},
   "outputs": [
    {
     "data": {
      "text/plain": [
       "'Odd'"
      ]
     },
     "execution_count": 42,
     "metadata": {},
     "output_type": "execute_result"
    }
   ],
   "source": [
    "evenodd(7)"
   ]
  },
  {
   "cell_type": "code",
   "execution_count": 47,
   "id": "03cd1c1c",
   "metadata": {},
   "outputs": [],
   "source": [
    "greatest=lambda x,y:x if x>y else y"
   ]
  },
  {
   "cell_type": "code",
   "execution_count": 48,
   "id": "2a6f65d8",
   "metadata": {},
   "outputs": [
    {
     "data": {
      "text/plain": [
       "20"
      ]
     },
     "execution_count": 48,
     "metadata": {},
     "output_type": "execute_result"
    }
   ],
   "source": [
    "greatest(10,20)"
   ]
  },
  {
   "cell_type": "raw",
   "id": "008c97d8",
   "metadata": {},
   "source": []
  },
  {
   "cell_type": "code",
   "execution_count": 49,
   "id": "f2d044c7",
   "metadata": {},
   "outputs": [],
   "source": [
    "sum_num=lambda a,b,c:a+b+c"
   ]
  },
  {
   "cell_type": "code",
   "execution_count": 50,
   "id": "6548a5ed",
   "metadata": {},
   "outputs": [
    {
     "data": {
      "text/plain": [
       "60"
      ]
     },
     "execution_count": 50,
     "metadata": {},
     "output_type": "execute_result"
    }
   ],
   "source": [
    "sum_num(10,20,30)"
   ]
  },
  {
   "cell_type": "code",
   "execution_count": 52,
   "id": "78e27ab4",
   "metadata": {},
   "outputs": [],
   "source": [
    "products=[\n",
    "    {'name':'Product1','price':50},\n",
    "     {'name':'Product2','price':40},\n",
    "     {'name':'Product3','price':30}, \n",
    "    {'name':'Product4','price':80},\n",
    "]\n",
    "\n",
    "sorted_products = sorted(products,key=lambda x : x['price'])"
   ]
  },
  {
   "cell_type": "code",
   "execution_count": 53,
   "id": "d527be65",
   "metadata": {},
   "outputs": [
    {
     "name": "stdout",
     "output_type": "stream",
     "text": [
      "{'name': 'Product3', 'price': 30}\n",
      "{'name': 'Product2', 'price': 40}\n",
      "{'name': 'Product1', 'price': 50}\n",
      "{'name': 'Product4', 'price': 80}\n"
     ]
    }
   ],
   "source": [
    "for i in sorted_products:\n",
    "    print(i)"
   ]
  },
  {
   "cell_type": "code",
   "execution_count": 55,
   "id": "bb790f4e",
   "metadata": {},
   "outputs": [
    {
     "data": {
      "text/plain": [
       "[{'name': 'Product3', 'price': 30},\n",
       " {'name': 'Product2', 'price': 40},\n",
       " {'name': 'Product1', 'price': 50},\n",
       " {'name': 'Product4', 'price': 80}]"
      ]
     },
     "execution_count": 55,
     "metadata": {},
     "output_type": "execute_result"
    }
   ],
   "source": [
    "sorted_products"
   ]
  },
  {
   "cell_type": "code",
   "execution_count": 61,
   "id": "0ab5eea6",
   "metadata": {},
   "outputs": [],
   "source": [
    "#filter\n",
    "#map\n",
    "#reduce\n"
   ]
  },
  {
   "cell_type": "raw",
   "id": "76a27a97",
   "metadata": {},
   "source": []
  },
  {
   "cell_type": "code",
   "execution_count": 63,
   "id": "306f7b98",
   "metadata": {},
   "outputs": [
    {
     "name": "stdout",
     "output_type": "stream",
     "text": [
      "Enter string :Nakul\n",
      "['a', 'u']\n"
     ]
    }
   ],
   "source": [
    "string=input(\"Enter string :\").lower()\n",
    "L=[]\n",
    "for char in string:\n",
    "    if char in ['a','e','i','o','u']:\n",
    "        L.append(char)\n",
    "print(L)"
   ]
  },
  {
   "cell_type": "code",
   "execution_count": 64,
   "id": "91dbf8ee",
   "metadata": {},
   "outputs": [
    {
     "data": {
      "text/plain": [
       "10"
      ]
     },
     "execution_count": 64,
     "metadata": {},
     "output_type": "execute_result"
    }
   ],
   "source": [
    "x =-10\n",
    "abs(x)"
   ]
  },
  {
   "cell_type": "code",
   "execution_count": 65,
   "id": "c09f70e4",
   "metadata": {},
   "outputs": [
    {
     "data": {
      "text/plain": [
       "1418886267824"
      ]
     },
     "execution_count": 65,
     "metadata": {},
     "output_type": "execute_result"
    }
   ],
   "source": [
    "id(x)"
   ]
  },
  {
   "cell_type": "code",
   "execution_count": 66,
   "id": "daf020cc",
   "metadata": {},
   "outputs": [
    {
     "data": {
      "text/plain": [
       "9"
      ]
     },
     "execution_count": 66,
     "metadata": {},
     "output_type": "execute_result"
    }
   ],
   "source": [
    "l=[1,2,3,4,5,6,7,8,9]\n",
    "max(l)"
   ]
  },
  {
   "cell_type": "code",
   "execution_count": 67,
   "id": "14f2739c",
   "metadata": {},
   "outputs": [
    {
     "name": "stdout",
     "output_type": "stream",
     "text": [
      "<class 'str'>\n"
     ]
    }
   ],
   "source": [
    "x=2\n",
    "y=str(x)\n",
    "print(type(y))"
   ]
  },
  {
   "cell_type": "code",
   "execution_count": 69,
   "id": "c97b4834",
   "metadata": {},
   "outputs": [],
   "source": [
    "language=['python','java','javascript']"
   ]
  },
  {
   "cell_type": "code",
   "execution_count": 70,
   "id": "76e1e3cc",
   "metadata": {},
   "outputs": [],
   "source": [
    "enumerate_prime=enumerate(language)"
   ]
  },
  {
   "cell_type": "code",
   "execution_count": 71,
   "id": "5c005ca3",
   "metadata": {},
   "outputs": [
    {
     "data": {
      "text/plain": [
       "[(0, 'python'), (1, 'java'), (2, 'javascript')]"
      ]
     },
     "execution_count": 71,
     "metadata": {},
     "output_type": "execute_result"
    }
   ],
   "source": [
    "list(enumerate_prime)"
   ]
  },
  {
   "cell_type": "code",
   "execution_count": 72,
   "id": "c1b96d6f",
   "metadata": {},
   "outputs": [],
   "source": [
    "enumerate_prime=enumerate(language,2)"
   ]
  },
  {
   "cell_type": "code",
   "execution_count": 73,
   "id": "e206a9b5",
   "metadata": {},
   "outputs": [
    {
     "data": {
      "text/plain": [
       "[(2, 'python'), (3, 'java'), (4, 'javascript')]"
      ]
     },
     "execution_count": 73,
     "metadata": {},
     "output_type": "execute_result"
    }
   ],
   "source": [
    "list(enumerate_prime)"
   ]
  },
  {
   "cell_type": "code",
   "execution_count": 74,
   "id": "2e559c04",
   "metadata": {},
   "outputs": [],
   "source": [
    "enumerate_prime=enumerate(language,20)"
   ]
  },
  {
   "cell_type": "code",
   "execution_count": 75,
   "id": "e557a3e8",
   "metadata": {},
   "outputs": [
    {
     "data": {
      "text/plain": [
       "[(20, 'python'), (21, 'java'), (22, 'javascript')]"
      ]
     },
     "execution_count": 75,
     "metadata": {},
     "output_type": "execute_result"
    }
   ],
   "source": [
    "list(enumerate_prime)"
   ]
  },
  {
   "cell_type": "code",
   "execution_count": 78,
   "id": "c67ea840",
   "metadata": {},
   "outputs": [
    {
     "name": "stdout",
     "output_type": "stream",
     "text": [
      "Enter the string hereNakul Desai\n",
      "value N : index 0\n",
      "value a : index 1\n",
      "value k : index 2\n",
      "value u : index 3\n",
      "value l : index 4\n",
      "value   : index 5\n",
      "value D : index 6\n",
      "value e : index 7\n",
      "value s : index 8\n",
      "value a : index 9\n",
      "value i : index 10\n"
     ]
    }
   ],
   "source": [
    "s=input(\"Enter the string here\")\n",
    "for index,value in enumerate(s):\n",
    "    print(f\"value {value} : index {index}\")"
   ]
  },
  {
   "cell_type": "markdown",
   "id": "d46a8c07",
   "metadata": {},
   "source": [
    "#### List Comprehension"
   ]
  },
  {
   "cell_type": "code",
   "execution_count": null,
   "id": "03567235",
   "metadata": {},
   "outputs": [],
   "source": [
    "Syntax:- [output|collection|condition]"
   ]
  },
  {
   "cell_type": "code",
   "execution_count": 79,
   "id": "ec9a213f",
   "metadata": {},
   "outputs": [],
   "source": [
    "lst=[1,2,3,4,5,6,7,8,9,10]\n",
    "a=[x for x in lst]"
   ]
  },
  {
   "cell_type": "code",
   "execution_count": 80,
   "id": "98c497dc",
   "metadata": {},
   "outputs": [
    {
     "data": {
      "text/plain": [
       "[1, 2, 3, 4, 5, 6, 7, 8, 9, 10]"
      ]
     },
     "execution_count": 80,
     "metadata": {},
     "output_type": "execute_result"
    }
   ],
   "source": [
    "a"
   ]
  },
  {
   "cell_type": "code",
   "execution_count": 82,
   "id": "93ddfce0",
   "metadata": {},
   "outputs": [
    {
     "name": "stdout",
     "output_type": "stream",
     "text": [
      "1\n",
      "2\n",
      "3\n",
      "4\n",
      "5\n",
      "6\n",
      "7\n",
      "8\n",
      "9\n",
      "10\n"
     ]
    }
   ],
   "source": [
    "for i in lst:\n",
    "    print(i)"
   ]
  },
  {
   "cell_type": "code",
   "execution_count": 85,
   "id": "031ef948",
   "metadata": {},
   "outputs": [],
   "source": [
    "lst=[1,2,3,4,5,6,7,8,9,10]\n",
    "a=[x+1 for x in lst]"
   ]
  },
  {
   "cell_type": "code",
   "execution_count": 86,
   "id": "80a029b2",
   "metadata": {},
   "outputs": [
    {
     "data": {
      "text/plain": [
       "[2, 3, 4, 5, 6, 7, 8, 9, 10, 11]"
      ]
     },
     "execution_count": 86,
     "metadata": {},
     "output_type": "execute_result"
    }
   ],
   "source": [
    "a"
   ]
  },
  {
   "cell_type": "code",
   "execution_count": 87,
   "id": "6ebee896",
   "metadata": {},
   "outputs": [
    {
     "data": {
      "text/plain": [
       "[2, 4, 6, 8, 10, 12, 14, 16, 18, 20]"
      ]
     },
     "execution_count": 87,
     "metadata": {},
     "output_type": "execute_result"
    }
   ],
   "source": [
    "\n",
    "a=[x*2 for x in lst]\n",
    "a"
   ]
  },
  {
   "cell_type": "code",
   "execution_count": 88,
   "id": "1b4d89a5",
   "metadata": {},
   "outputs": [
    {
     "data": {
      "text/plain": [
       "[5, 6, 7, 8, 9, 10]"
      ]
     },
     "execution_count": 88,
     "metadata": {},
     "output_type": "execute_result"
    }
   ],
   "source": [
    "lst=[1,2,3,4,5,6,7,8,9,10]\n",
    "a=[x for x in lst if x>4]\n",
    "a"
   ]
  },
  {
   "cell_type": "code",
   "execution_count": 90,
   "id": "ad1da8cd",
   "metadata": {},
   "outputs": [
    {
     "data": {
      "text/plain": [
       "[5, 6, 7, 8, 9, 10]"
      ]
     },
     "execution_count": 90,
     "metadata": {},
     "output_type": "execute_result"
    }
   ],
   "source": [
    "a= []\n",
    "for x in lst:\n",
    "    if x>4:\n",
    "        a.append(x)\n",
    "a"
   ]
  },
  {
   "cell_type": "code",
   "execution_count": 92,
   "id": "6ec01fbc",
   "metadata": {},
   "outputs": [
    {
     "data": {
      "text/plain": [
       "[2, 4, 6, 8, 10]"
      ]
     },
     "execution_count": 92,
     "metadata": {},
     "output_type": "execute_result"
    }
   ],
   "source": [
    "lst=[1,2,3,4,5,6,7,8,9,10]\n",
    "a=[x for x in lst if x%2==0]\n",
    "a"
   ]
  },
  {
   "cell_type": "code",
   "execution_count": 98,
   "id": "6177e805",
   "metadata": {},
   "outputs": [
    {
     "data": {
      "text/plain": [
       "[6, 8, 10]"
      ]
     },
     "execution_count": 98,
     "metadata": {},
     "output_type": "execute_result"
    }
   ],
   "source": [
    "lst=[1,2,3,4,5,6,7,8,9,10]\n",
    "d=[x for x in lst if x>4 if x%2==0]\n",
    "d"
   ]
  },
  {
   "cell_type": "code",
   "execution_count": 97,
   "id": "ced4e13e",
   "metadata": {},
   "outputs": [
    {
     "name": "stdout",
     "output_type": "stream",
     "text": [
      "[1, 2, 3, 4, 5, 6, 7, 8, 9, 10]\n"
     ]
    }
   ],
   "source": [
    "a=[]\n",
    "for i in lst:\n",
    "    if x>4:\n",
    "        if x%2==0:\n",
    "            a.append(i)\n",
    "print(a)"
   ]
  },
  {
   "cell_type": "code",
   "execution_count": 100,
   "id": "79171e1b",
   "metadata": {},
   "outputs": [
    {
     "data": {
      "text/plain": [
       "['less than 4', 'less than 4', 'less than 4', 'less than 4', 5, 6, 7, 8, 9, 10]"
      ]
     },
     "execution_count": 100,
     "metadata": {},
     "output_type": "execute_result"
    }
   ],
   "source": [
    "lst=[1,2,3,4,5,6,7,8,9,10]\n",
    "e= [x if x>4 else 'less than 4'for x in lst ]\n",
    "e"
   ]
  },
  {
   "cell_type": "code",
   "execution_count": 101,
   "id": "6451bb0d",
   "metadata": {},
   "outputs": [
    {
     "name": "stdout",
     "output_type": "stream",
     "text": [
      "['less than 4', 'less than 4', 'less than 4', 'less than 4', 5, 6, 7, 8, 9, 10]\n"
     ]
    }
   ],
   "source": [
    "a=[]\n",
    "for x in lst:\n",
    "    if x>4:\n",
    "        a.append(x)\n",
    "    else:\n",
    "        a.append(\"less than 4\")\n",
    "print(a)"
   ]
  },
  {
   "cell_type": "code",
   "execution_count": 104,
   "id": "59513d91",
   "metadata": {},
   "outputs": [
    {
     "data": {
      "text/plain": [
       "['not 2 @ 3',\n",
       " 'two',\n",
       " 'three',\n",
       " 'two',\n",
       " 'not 2 @ 3',\n",
       " 'two',\n",
       " 'not 2 @ 3',\n",
       " 'two',\n",
       " 'three',\n",
       " 'two']"
      ]
     },
     "execution_count": 104,
     "metadata": {},
     "output_type": "execute_result"
    }
   ],
   "source": [
    "lst=[1,2,3,4,5,6,7,8,9,10]\n",
    "\n",
    "f=['two' if x%2==0 else 'three' if x%3==0 else 'not 2 @ 3' for x in lst]\n",
    "f"
   ]
  },
  {
   "cell_type": "code",
   "execution_count": 105,
   "id": "82b50dbc",
   "metadata": {},
   "outputs": [
    {
     "name": "stdout",
     "output_type": "stream",
     "text": [
      "['not 2 &3', 'two', 'three', 'two', 'not 2 &3', 'two', 'not 2 &3', 'two', 'three', 'two']\n"
     ]
    }
   ],
   "source": [
    "a=[]\n",
    "for i in lst:\n",
    "    if i%2==0:\n",
    "        a.append('two')\n",
    "    elif i%3==0:\n",
    "        a.append('three')\n",
    "    else:\n",
    "        a.append('not 2 &3')\n",
    "print(a)"
   ]
  },
  {
   "cell_type": "code",
   "execution_count": null,
   "id": "7b55e92b",
   "metadata": {},
   "outputs": [],
   "source": []
  }
 ],
 "metadata": {
  "kernelspec": {
   "display_name": "Python 3 (ipykernel)",
   "language": "python",
   "name": "python3"
  },
  "language_info": {
   "codemirror_mode": {
    "name": "ipython",
    "version": 3
   },
   "file_extension": ".py",
   "mimetype": "text/x-python",
   "name": "python",
   "nbconvert_exporter": "python",
   "pygments_lexer": "ipython3",
   "version": "3.11.3"
  }
 },
 "nbformat": 4,
 "nbformat_minor": 5
}
